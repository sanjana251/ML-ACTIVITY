{
  "nbformat": 4,
  "nbformat_minor": 0,
  "metadata": {
    "colab": {
      "provenance": [],
      "include_colab_link": true
    },
    "kernelspec": {
      "name": "python3",
      "display_name": "Python 3"
    },
    "language_info": {
      "name": "python"
    }
  },
  "cells": [
    {
      "cell_type": "markdown",
      "metadata": {
        "id": "view-in-github",
        "colab_type": "text"
      },
      "source": [
        "<a href=\"https://colab.research.google.com/github/sanjana251/ML-ACTIVITY/blob/main/NB_Scratch.ipynb\" target=\"_parent\"><img src=\"https://colab.research.google.com/assets/colab-badge.svg\" alt=\"Open In Colab\"/></a>"
      ]
    },
    {
      "cell_type": "code",
      "execution_count": 3,
      "metadata": {
        "id": "Gi5vV04kgsJd"
      },
      "outputs": [],
      "source": [
        "\n",
        "import pandas as pd"
      ]
    },
    {
      "cell_type": "code",
      "source": [
        "#Load Dataset\n",
        "df = pd.read_csv('PlayTennis_NB_Example.csv')\n",
        "\n",
        "# Display the first 5 rows of the dataset\n",
        "print(df.head())\n"
      ],
      "metadata": {
        "colab": {
          "base_uri": "https://localhost:8080/"
        },
        "id": "xcRhpoBqg30V",
        "outputId": "7ae2a407-1525-4131-c86a-307fd1065971"
      },
      "execution_count": 4,
      "outputs": [
        {
          "output_type": "stream",
          "name": "stdout",
          "text": [
            "  Day   Outlook Temperature Humidity    Wind PlayTennis\n",
            "0  D1     Sunny         Hot     High    Weak         No\n",
            "1  D2     Sunny         Hot     High  Strong         No\n",
            "2  D3  Overcast         Hot     High    Weak        Yes\n",
            "3  D4      Rain        Mild     High    Weak        Yes\n",
            "4  D5      Rain        Cool   Normal    Weak        Yes\n"
          ]
        }
      ]
    },
    {
      "cell_type": "code",
      "source": [
        "# Test Case is classsify the follwoing instance <Outlook = Sunny, Temperture = Cool, Humidity = High, Wind = Strong>\n",
        "test_case = {'Outlook': 'Sunny', 'Temperature': 'Cool', 'Humidity': 'High', 'Wind': 'Strong'}\n",
        "\n",
        "# Calculate the prior probabilities for each class label\n",
        "prior_probabilities = df['PlayTennis'].value_counts(normalize=True).to_dict()\n",
        "\n",
        "# Round the prior probabilities to 2 decimal places\n",
        "prior_probabilities = {k: round(v, 2) for k, v in prior_probabilities.items()}\n",
        "print(\"Rounded Prior Probabilities: \", prior_probabilities)# Test Case is classsify the follwoing instance <Outlook = Sunny, Temperture = Cool, Humidity = High, Wind = Strong>\n",
        "test_case = {'Outlook': 'Sunny', 'Temperature': 'Cool', 'Humidity': 'High', 'Wind': 'Strong'}\n",
        "\n",
        "# Calculate the prior probabilities for each class label\n",
        "prior_probabilities = df['PlayTennis'].value_counts(normalize=True).to_dict()\n",
        "\n",
        "# Round the prior probabilities to 2 decimal places\n",
        "prior_probabilities = {k: round(v, 2) for k, v in prior_probabilities.items()}\n",
        "print(\"Rounded Prior Probabilities: \", prior_probabilities)"
      ],
      "metadata": {
        "colab": {
          "base_uri": "https://localhost:8080/"
        },
        "id": "De47ttUUhEpo",
        "outputId": "51324ec4-91fa-48f6-8370-811e097d4f00"
      },
      "execution_count": 5,
      "outputs": [
        {
          "output_type": "stream",
          "name": "stdout",
          "text": [
            "Rounded Prior Probabilities:  {'Yes': 0.64, 'No': 0.36}\n",
            "Rounded Prior Probabilities:  {'Yes': 0.64, 'No': 0.36}\n"
          ]
        }
      ]
    },
    {
      "cell_type": "code",
      "source": [
        "# Compute the likelihood probabilities for each feature given the class label\n",
        "likelihood_probabilities = {}\n",
        "\n",
        "# Exclude the target variable and the Day columen from the features\n",
        "for feature in df.columns[1:-1]:\n",
        "    likelihood_probabilities[feature] = {}\n",
        "    for class_label in df['PlayTennis'].unique():\n",
        "        # Calculate the likelihood probability for each feature given the class label\n",
        "        likelihood_probabilities[feature][class_label] = df[df['PlayTennis'] == class_label][feature].value_counts(normalize=True).to_dict()\n",
        "        # Round the likelihood probabilities to 2 decimal places\n",
        "        likelihood_probabilities[feature][class_label] = {k: round(v, 2) for k, v in likelihood_probabilities[feature][class_label].items()}\n",
        "        print(f\"Likelihood Probabilities for {feature} given {class_label}: \", likelihood_probabilities[feature][class_label])"
      ],
      "metadata": {
        "colab": {
          "base_uri": "https://localhost:8080/"
        },
        "id": "Tmym7Tr4hMTL",
        "outputId": "d255a337-6b6b-4622-e3a3-94d3f272f20a"
      },
      "execution_count": 6,
      "outputs": [
        {
          "output_type": "stream",
          "name": "stdout",
          "text": [
            "Likelihood Probabilities for Outlook given No:  {'Sunny': 0.6, 'Rain': 0.4}\n",
            "Likelihood Probabilities for Outlook given Yes:  {'Overcast': 0.44, 'Rain': 0.33, 'Sunny': 0.22}\n",
            "Likelihood Probabilities for Temperature given No:  {'Hot': 0.4, 'Mild': 0.4, 'Cool': 0.2}\n",
            "Likelihood Probabilities for Temperature given Yes:  {'Mild': 0.44, 'Cool': 0.33, 'Hot': 0.22}\n",
            "Likelihood Probabilities for Humidity given No:  {'High': 0.8, 'Normal': 0.2}\n",
            "Likelihood Probabilities for Humidity given Yes:  {'Normal': 0.67, 'High': 0.33}\n",
            "Likelihood Probabilities for Wind given No:  {'Strong': 0.6, 'Weak': 0.4}\n",
            "Likelihood Probabilities for Wind given Yes:  {'Weak': 0.67, 'Strong': 0.33}\n"
          ]
        }
      ]
    },
    {
      "cell_type": "code",
      "source": [
        "# Navie Bayes Probability  for playTennis = Yes\n",
        "prob_yes = prior_probabilities['Yes']\n",
        "for feature, value in test_case.items():\n",
        "    prob_yes *= likelihood_probabilities[feature]['Yes'].get(value, 0)\n",
        "\n",
        "#print the probability of PlayTennis = Yes with two decimal places\n",
        "\n",
        "print(\"Probability of PlayTennis = Yes: \", round(prob_yes,4))"
      ],
      "metadata": {
        "colab": {
          "base_uri": "https://localhost:8080/"
        },
        "id": "L0PxbsDahSDu",
        "outputId": "d4cf3e09-d373-4474-b8bf-60220b097afd"
      },
      "execution_count": 7,
      "outputs": [
        {
          "output_type": "stream",
          "name": "stdout",
          "text": [
            "Probability of PlayTennis = Yes:  0.0051\n"
          ]
        }
      ]
    },
    {
      "cell_type": "code",
      "source": [
        "# Navie Bayes Probability  for playTennis = No\n",
        "prob_no = prior_probabilities['No']\n",
        "for feature, value in test_case.items():\n",
        "    prob_no *= likelihood_probabilities[feature]['No'].get(value, 0)\n",
        "\n",
        "#print the probability of PlayTennis = Yes with two decimal places\n",
        "\n",
        "print(\"Probability of PlayTennis = No: \", round(prob_no,4))"
      ],
      "metadata": {
        "colab": {
          "base_uri": "https://localhost:8080/"
        },
        "id": "zeYecaP_hZNx",
        "outputId": "ee57df0f-9325-4ab2-bffd-7261a062dfb6"
      },
      "execution_count": 8,
      "outputs": [
        {
          "output_type": "stream",
          "name": "stdout",
          "text": [
            "Probability of PlayTennis = No:  0.0207\n"
          ]
        }
      ]
    },
    {
      "cell_type": "code",
      "source": [
        "# The end result of NB is to compare the two probabilities and choose the one with the highest value.\n",
        "if prob_yes > prob_no:\n",
        "    print(\"The predicted class is: PlayTennis = Yes\")\n",
        "else:\n",
        "    print(\"The predicted class is: PlayTennis = No\")"
      ],
      "metadata": {
        "colab": {
          "base_uri": "https://localhost:8080/"
        },
        "id": "Lxm3XXbiheTo",
        "outputId": "cabd8afd-4f4d-4454-9d1a-3dff7d099651"
      },
      "execution_count": 9,
      "outputs": [
        {
          "output_type": "stream",
          "name": "stdout",
          "text": [
            "The predicted class is: PlayTennis = No\n"
          ]
        }
      ]
    },
    {
      "cell_type": "code",
      "source": [
        "# Lets implement the same code using sklearn library\n",
        "from sklearn.naive_bayes import GaussianNB\n",
        "from sklearn.model_selection import train_test_split\n",
        "from sklearn.metrics import accuracy_score, classification_report, confusion_matrix\n",
        "from sklearn.preprocessing import LabelEncoder\n",
        "import numpy as np\n",
        "\n",
        "# Load the dataset\n",
        "df = pd.read_csv('PlayTennis_NB_Example.csv')\n",
        "df = df.drop(columns=['Day']) # Drop the 'Day' column as it is not needed for classification\n",
        "\n",
        "# Encode categorical features using LabelEncoder\n",
        "label_encoders = {}\n",
        "for column in df.columns:\n",
        "    if df[column].dtype == 'object':\n",
        "        le = LabelEncoder()\n",
        "        df[column] = le.fit_transform(df[column])\n",
        "        label_encoders[column] = le\n",
        "        # Display the mapping for the column without showing int64()\n",
        "        mapping = {original: int(encoded) for original, encoded in zip(le.classes_, le.transform(le.classes_))}\n",
        "        print(f\"Label Encoding for {column}: {mapping}\")\n",
        "\n",
        "\n",
        "\n",
        "# Split the dataset into features and target variable\n",
        "X = df.drop(columns=['PlayTennis'])\n",
        "y = df['PlayTennis']\n",
        "\n",
        "# Split the dataset into training and testing sets\n",
        "X_train, X_test, y_train, y_test = train_test_split(X, y, test_size=0.2, random_state=42)\n",
        "\n",
        "# Create and train the Gaussian Naive Bayes model\n",
        "gnb = GaussianNB()\n",
        "gnb.fit(X_train, y_train)\n",
        "\n",
        "# Make predictions on the test set\n",
        "y_pred = gnb.predict(X_test)\n",
        "\n",
        "# Calculate accuracy and print classification report\n",
        "accuracy = accuracy_score(y_test, y_pred)\n",
        "print(\"Accuracy in %: \", round(accuracy,2)*100)"
      ],
      "metadata": {
        "colab": {
          "base_uri": "https://localhost:8080/"
        },
        "id": "EKxb67Gthi7J",
        "outputId": "66006d58-7198-4a94-a15d-035ac4e693a1"
      },
      "execution_count": 10,
      "outputs": [
        {
          "output_type": "stream",
          "name": "stdout",
          "text": [
            "Label Encoding for Outlook: {'Overcast': 0, 'Rain': 1, 'Sunny': 2}\n",
            "Label Encoding for Temperature: {'Cool': 0, 'Hot': 1, 'Mild': 2}\n",
            "Label Encoding for Humidity: {'High': 0, 'Normal': 1}\n",
            "Label Encoding for Wind: {'Strong': 0, 'Weak': 1}\n",
            "Label Encoding for PlayTennis: {'No': 0, 'Yes': 1}\n",
            "Accuracy in %:  100.0\n"
          ]
        }
      ]
    },
    {
      "cell_type": "code",
      "source": [
        "# Encode the test case with feature names\n",
        "test_case_encoded = pd.DataFrame({\n",
        "    'Outlook': label_encoders['Outlook'].transform([test_case['Outlook']])[0],\n",
        "    'Temperature': label_encoders['Temperature'].transform([test_case['Temperature']])[0],\n",
        "    'Humidity': label_encoders['Humidity'].transform([test_case['Humidity']])[0],\n",
        "    'Wind': label_encoders['Wind'].transform([test_case['Wind']])[0]\n",
        "}, index=[0])  # Create a DataFrame with feature names as columns"
      ],
      "metadata": {
        "id": "Uzem42BJhp6r"
      },
      "execution_count": 11,
      "outputs": []
    },
    {
      "cell_type": "code",
      "source": [
        "# Display the encoded test case with feature names\n",
        "print(\"Encoded Test Case with Feature Names:\")\n",
        "print(test_case_encoded)"
      ],
      "metadata": {
        "colab": {
          "base_uri": "https://localhost:8080/"
        },
        "id": "LSYNJN4Zht56",
        "outputId": "af2c70f3-26a9-4319-8bb2-728fd9c762db"
      },
      "execution_count": 12,
      "outputs": [
        {
          "output_type": "stream",
          "name": "stdout",
          "text": [
            "Encoded Test Case with Feature Names:\n",
            "   Outlook  Temperature  Humidity  Wind\n",
            "0        2            0         0     0\n"
          ]
        }
      ]
    },
    {
      "cell_type": "code",
      "source": [
        "# display after inverse the encoding\n",
        "decoded_test_case = test_case_encoded.copy()\n",
        "for column in decoded_test_case.columns:\n",
        "    decoded_test_case[column] = label_encoders[column].inverse_transform(decoded_test_case[column])\n",
        "print(\"Given Test Case:\")\n",
        "print(decoded_test_case)"
      ],
      "metadata": {
        "colab": {
          "base_uri": "https://localhost:8080/"
        },
        "id": "dZgXkCULhxOl",
        "outputId": "9100681e-6522-4d56-a3a4-f4e7125bf80a"
      },
      "execution_count": 13,
      "outputs": [
        {
          "output_type": "stream",
          "name": "stdout",
          "text": [
            "Given Test Case:\n",
            "  Outlook Temperature Humidity    Wind\n",
            "0   Sunny        Cool     High  Strong\n"
          ]
        }
      ]
    },
    {
      "cell_type": "code",
      "source": [
        "# Make prediction for the test case\n",
        "predicted_class = gnb.predict(test_case_encoded)[0]\n",
        "predicted_class_label = label_encoders['PlayTennis'].inverse_transform([predicted_class])[0]\n",
        "print(\"Predicted class for the test case:\", predicted_class_label)"
      ],
      "metadata": {
        "colab": {
          "base_uri": "https://localhost:8080/"
        },
        "id": "4dGulHodhz82",
        "outputId": "a7e4a464-b1a0-4d4c-bf26-1bbf03edebe4"
      },
      "execution_count": 14,
      "outputs": [
        {
          "output_type": "stream",
          "name": "stdout",
          "text": [
            "Predicted class for the test case: No\n"
          ]
        }
      ]
    },
    {
      "cell_type": "code",
      "source": [
        "import pandas as pd\n",
        "\n",
        "# Step 1: Create the dataset\n",
        "data = {\n",
        "    'CGPA': ['≥9', '≥8', '≥9', '<8', '≥8', '≥9', '<8', '≥9', '≥8', '≥8'],\n",
        "    'Interactiveness': ['Yes', 'No', 'No', 'No', 'Yes', 'Yes', 'Yes', 'No', 'Yes', 'Yes'],\n",
        "    'Practical Knowledge': ['Very good', 'Good', 'Average', 'Average', 'Good', 'Good', 'Good', 'Very good', 'Good', 'Average'],\n",
        "    'Communication Skills': ['Good', 'Moderate', 'Poor', 'Good', 'Moderate', 'Moderate', 'Poor', 'Good', 'Good', 'Good'],\n",
        "    'Job Offer': ['Yes', 'Yes', 'No', 'No', 'Yes', 'Yes', 'No', 'Yes', 'Yes', 'Yes']\n",
        "}\n",
        "\n",
        "df = pd.DataFrame(data)\n",
        "\n",
        "# Step 2: Test case\n",
        "test_case = {\n",
        "    'CGPA': '≥9',\n",
        "    'Interactiveness': 'Yes',\n",
        "    'Practical Knowledge': 'Very good',\n",
        "    'Communication Skills': 'Good'\n",
        "}\n",
        "\n",
        "# Step 3: Calculate prior probabilities\n",
        "prior = df['Job Offer'].value_counts(normalize=True).to_dict()\n",
        "print(\"Prior Probabilities:\")\n",
        "print(prior)\n",
        "\n",
        "# Step 4: Calculate likelihoods\n",
        "features = df.columns[:-1]\n",
        "labels = df['Job Offer'].unique()\n",
        "likelihoods = {}\n",
        "\n",
        "for feature in features:\n",
        "    likelihoods[feature] = {}\n",
        "    for label in labels:\n",
        "        subset = df[df['Job Offer'] == label]\n",
        "        probs = subset[feature].value_counts(normalize=True).to_dict()\n",
        "        likelihoods[feature][label] = probs\n",
        "\n",
        "# Step 5: Apply Naive Bayes\n",
        "results = {}\n",
        "for label in labels:\n",
        "    prob = prior[label]\n",
        "    for feature in features:\n",
        "        value = test_case[feature]\n",
        "        prob *= likelihoods[feature][label].get(value, 0)\n",
        "    results[label] = prob\n",
        "\n",
        "# Step 6: Normalize (Optional)\n",
        "total = sum(results.values())\n",
        "for label in results:\n",
        "    results[label] = round(results[label] / total, 4) if total > 0 else 0\n",
        "\n",
        "print(\"\\nPosterior Probabilities for Test Case:\")\n",
        "for k, v in results.items():\n",
        "    print(f\"{k}: {v}\")\n",
        "\n",
        "# Prediction\n",
        "predicted = max(results, key=results.get)\n",
        "print(f\"\\n✅ Predicted Job Offer: {predicted}\")\n"
      ],
      "metadata": {
        "colab": {
          "base_uri": "https://localhost:8080/"
        },
        "id": "-lvol-W5h2eZ",
        "outputId": "9cf511db-662c-4315-d7c0-8578009f84a8"
      },
      "execution_count": 15,
      "outputs": [
        {
          "output_type": "stream",
          "name": "stdout",
          "text": [
            "Prior Probabilities:\n",
            "{'Yes': 0.7, 'No': 0.3}\n",
            "\n",
            "Posterior Probabilities for Test Case:\n",
            "Yes: 1.0\n",
            "No: 0.0\n",
            "\n",
            "✅ Predicted Job Offer: Yes\n"
          ]
        }
      ]
    },
    {
      "cell_type": "code",
      "source": [
        "from collections import defaultdict\n",
        "\n",
        "# Dataset\n",
        "data = [\n",
        "    {\"CGPA\": \"≥9\", \"Interactiveness\": \"Yes\", \"Practical\": \"Very good\", \"Communication\": \"Good\", \"Job\": \"Yes\"},\n",
        "    {\"CGPA\": \"≥8\", \"Interactiveness\": \"No\", \"Practical\": \"Good\", \"Communication\": \"Moderate\", \"Job\": \"Yes\"},\n",
        "    {\"CGPA\": \"≥9\", \"Interactiveness\": \"No\", \"Practical\": \"Average\", \"Communication\": \"Poor\", \"Job\": \"No\"},\n",
        "    {\"CGPA\": \"<8\", \"Interactiveness\": \"No\", \"Practical\": \"Average\", \"Communication\": \"Good\", \"Job\": \"No\"},\n",
        "    {\"CGPA\": \"≥8\", \"Interactiveness\": \"Yes\", \"Practical\": \"Good\", \"Communication\": \"Moderate\", \"Job\": \"Yes\"},\n",
        "    {\"CGPA\": \"≥9\", \"Interactiveness\": \"Yes\", \"Practical\": \"Good\", \"Communication\": \"Moderate\", \"Job\": \"Yes\"},\n",
        "    {\"CGPA\": \"<8\", \"Interactiveness\": \"Yes\", \"Practical\": \"Good\", \"Communication\": \"Poor\", \"Job\": \"No\"},\n",
        "    {\"CGPA\": \"≥9\", \"Interactiveness\": \"No\", \"Practical\": \"Very good\", \"Communication\": \"Good\", \"Job\": \"Yes\"},\n",
        "    {\"CGPA\": \"≥8\", \"Interactiveness\": \"Yes\", \"Practical\": \"Good\", \"Communication\": \"Good\", \"Job\": \"Yes\"},\n",
        "    {\"CGPA\": \"≥8\", \"Interactiveness\": \"Yes\", \"Practical\": \"Average\", \"Communication\": \"Good\", \"Job\": \"Yes\"},\n",
        "]\n",
        "\n",
        "# Test case\n",
        "test_case = {\"CGPA\": \"≥8\", \"Interactiveness\": \"Yes\", \"Practical\": \"Average\", \"Communication\": \"Good\"}\n",
        "\n",
        "# Helper: Get all possible values for each attribute\n",
        "def get_attribute_values(data, attributes):\n",
        "    values = defaultdict(set)\n",
        "    for row in data:\n",
        "        for attr in attributes:\n",
        "            values[attr].add(row[attr])\n",
        "    return values\n",
        "\n",
        "# Step 1: Count priors and conditional probabilities\n",
        "def train_naive_bayes(data, attributes, target):\n",
        "    label_counts = defaultdict(int)\n",
        "    conditional_counts = defaultdict(lambda: defaultdict(lambda: defaultdict(int)))\n",
        "\n",
        "    for row in data:\n",
        "        label = row[target]\n",
        "        label_counts[label] += 1\n",
        "        for attr in attributes:\n",
        "            conditional_counts[attr][row[attr]][label] += 1\n",
        "\n",
        "    return label_counts, conditional_counts\n",
        "\n",
        "# Step 2: Predict with Laplace smoothing\n",
        "def predict(test_case, label_counts, conditional_counts, attr_values):\n",
        "    total_instances = sum(label_counts.values())\n",
        "    results = {}\n",
        "    k = 1  # Laplace smoothing\n",
        "\n",
        "    for label in label_counts:\n",
        "        # Prior probability\n",
        "        prob = label_counts[label] / total_instances\n",
        "\n",
        "        for attr, value in test_case.items():\n",
        "            num = conditional_counts[attr][value][label] + k\n",
        "            denom = label_counts[label] + len(attr_values[attr])\n",
        "            prob *= num / denom\n",
        "        results[label] = prob\n",
        "\n",
        "    # Normalize\n",
        "    total_prob = sum(results.values())\n",
        "    for label in results:\n",
        "        results[label] = results[label] / total_prob\n",
        "\n",
        "    return results\n",
        "\n",
        "# Attributes and target\n",
        "attributes = [\"CGPA\", \"Interactiveness\", \"Practical\", \"Communication\"]\n",
        "target = \"Job\"\n",
        "\n",
        "# Train\n",
        "attr_values = get_attribute_values(data, attributes)\n",
        "label_counts, conditional_counts = train_naive_bayes(data, attributes, target)\n",
        "\n",
        "# Predict\n",
        "posterior = predict(test_case, label_counts, conditional_counts, attr_values)\n",
        "\n",
        "# Output\n",
        "print(\"Posterior Probabilities:\")\n",
        "for label, prob in posterior.items():\n",
        "    print(f\"P({label} | test case) = {prob:.4f}\")\n",
        "\n",
        "print(\"\\nPrediction:\", max(posterior, key=posterior.get))\n"
      ],
      "metadata": {
        "colab": {
          "base_uri": "https://localhost:8080/"
        },
        "id": "WGAZ4cBnjIWs",
        "outputId": "b046f73b-cc1c-445b-c000-c2bbca77a863"
      },
      "execution_count": 16,
      "outputs": [
        {
          "output_type": "stream",
          "name": "stdout",
          "text": [
            "Posterior Probabilities:\n",
            "P(Yes | test case) = 0.8750\n",
            "P(No | test case) = 0.1250\n",
            "\n",
            "Prediction: Yes\n"
          ]
        }
      ]
    }
  ]
}